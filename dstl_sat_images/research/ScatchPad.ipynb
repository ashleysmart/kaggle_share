{
 "cells": [
  {
   "cell_type": "code",
   "execution_count": 9,
   "metadata": {
    "collapsed": true,
    "deletable": true,
    "editable": true
   },
   "outputs": [],
   "source": [
    "import sklearn.metrics\n",
    "import numpy as np\n",
    "import pandas as pd"
   ]
  },
  {
   "cell_type": "code",
   "execution_count": 26,
   "metadata": {
    "collapsed": false,
    "deletable": true,
    "editable": true
   },
   "outputs": [],
   "source": [
    "a = (np.random.random(10) > 0.5) * 1.0\n",
    "b =  np.random.random(10)"
   ]
  },
  {
   "cell_type": "code",
   "execution_count": 27,
   "metadata": {
    "collapsed": false,
    "deletable": true,
    "editable": true
   },
   "outputs": [
    {
     "name": "stdout",
     "output_type": "stream",
     "text": [
      "[ 1.  1.  1.  0.  0.  1.  0.  1.  1.  0.]\n",
      "[ 0.28161233  0.73893792  0.98442404  0.61169145  0.05905818  0.36161902\n",
      "  0.44427996  0.22238411  0.72670835  0.01114842]\n"
     ]
    }
   ],
   "source": [
    "print a\n",
    "print b"
   ]
  },
  {
   "cell_type": "code",
   "execution_count": 50,
   "metadata": {
    "collapsed": true,
    "deletable": true,
    "editable": true
   },
   "outputs": [],
   "source": [
    "b[1],b[3] = b[3],b[1]"
   ]
  },
  {
   "cell_type": "code",
   "execution_count": 51,
   "metadata": {
    "collapsed": false,
    "deletable": true,
    "editable": true
   },
   "outputs": [
    {
     "data": {
      "text/plain": [
       "array([ 0.28161233,  0.61169145,  0.98442404,  0.73893792,  0.05905818,\n",
       "        0.36161902,  0.44427996,  0.22238411,  0.72670835,  0.01114842])"
      ]
     },
     "execution_count": 51,
     "metadata": {},
     "output_type": "execute_result"
    }
   ],
   "source": [
    "b"
   ]
  },
  {
   "cell_type": "code",
   "execution_count": 49,
   "metadata": {
    "collapsed": false,
    "deletable": true,
    "editable": true
   },
   "outputs": [
    {
     "data": {
      "text/plain": [
       "3"
      ]
     },
     "execution_count": 49,
     "metadata": {},
     "output_type": "execute_result"
    }
   ],
   "source": [
    "np.argmax(a == 0.0)"
   ]
  },
  {
   "cell_type": "code",
   "execution_count": 30,
   "metadata": {
    "collapsed": false,
    "deletable": true,
    "editable": true
   },
   "outputs": [
    {
     "name": "stdout",
     "output_type": "stream",
     "text": [
      "float64\n",
      "float64\n"
     ]
    }
   ],
   "source": [
    "print a.dtype\n",
    "print b.dtype"
   ]
  },
  {
   "cell_type": "code",
   "execution_count": 32,
   "metadata": {
    "collapsed": false,
    "deletable": true,
    "editable": true
   },
   "outputs": [
    {
     "data": {
      "text/plain": [
       "0.22465451991341867"
      ]
     },
     "execution_count": 32,
     "metadata": {},
     "output_type": "execute_result"
    }
   ],
   "source": [
    "sklearn.metrics.mean_squared_error(a,b)"
   ]
  },
  {
   "cell_type": "code",
   "execution_count": 33,
   "metadata": {
    "collapsed": false,
    "deletable": true,
    "editable": true
   },
   "outputs": [
    {
     "data": {
      "text/plain": [
       "0.59999999999999998"
      ]
     },
     "execution_count": 33,
     "metadata": {},
     "output_type": "execute_result"
    }
   ],
   "source": [
    "sklearn.metrics.accuracy_score(a,b > 0.5)"
   ]
  },
  {
   "cell_type": "code",
   "execution_count": 34,
   "metadata": {
    "collapsed": false,
    "deletable": true,
    "editable": true
   },
   "outputs": [
    {
     "data": {
      "text/plain": [
       "0.60307376800891599"
      ]
     },
     "execution_count": 34,
     "metadata": {},
     "output_type": "execute_result"
    }
   ],
   "source": [
    "sklearn.metrics.log_loss(a,b)"
   ]
  },
  {
   "cell_type": "code",
   "execution_count": 43,
   "metadata": {
    "collapsed": false,
    "deletable": true,
    "editable": true
   },
   "outputs": [
    {
     "data": {
      "text/plain": [
       "(array([ 0.5 ,  0.75]),\n",
       " array([ 0.75,  0.5 ]),\n",
       " array([ 0.6,  0.6]),\n",
       " array([4, 6]))"
      ]
     },
     "execution_count": 43,
     "metadata": {},
     "output_type": "execute_result"
    }
   ],
   "source": [
    "sklearn.metrics.precision_recall_fscore_support(a,b > 0.5)"
   ]
  },
  {
   "cell_type": "code",
   "execution_count": 3,
   "metadata": {
    "collapsed": true
   },
   "outputs": [],
   "source": [
    "curves = {\n",
    "        \"samples\": 345,\n",
    "        \"chan\": 5,\n",
    "        \"tag\": \"abc\",\n",
    "        \"model\": {\n",
    "            \"patch_size\": 423543,\n",
    "            \"ident\": \"xyz\",\n",
    "        },\n",
    "        \"train\": {\n",
    "            \"loss\":    0.45,\n",
    "            \"mse\":     0.45,\n",
    "            \"acc\":     0.25,\n",
    "            \"prec\":    0.85,\n",
    "            \"recall\":  0.218,\n",
    "            \"fscore\":  0.23987,\n",
    "            \"support\": 0.348\n",
    "            },\n",
    "        \"valid\": {\n",
    "            \"loss\": 0.458,\n",
    "            \"mse\": 0.4598,\n",
    "            \"acc\": 0.35,\n",
    "            \"prec\": 0.234,\n",
    "            \"recall\": 0.545,\n",
    "            \"fscore\": 0.54837,\n",
    "            \"support\": 0.346\n",
    "        }     \n",
    "    }"
   ]
  },
  {
   "cell_type": "code",
   "execution_count": 5,
   "metadata": {
    "collapsed": true
   },
   "outputs": [],
   "source": [
    "def flatten(d):\n",
    "    def items():\n",
    "        for key, value in d.items():\n",
    "            if isinstance(value, dict):\n",
    "                for subkey, subvalue in flatten_dict(value).items():\n",
    "                    yield key + \".\" + subkey, subvalue\n",
    "            else:\n",
    "                yield key, value\n",
    "\n",
    "    return dict(items())"
   ]
  },
  {
   "cell_type": "code",
   "execution_count": 7,
   "metadata": {
    "collapsed": false
   },
   "outputs": [],
   "source": [
    "curves = flatten(curves)"
   ]
  },
  {
   "cell_type": "code",
   "execution_count": 12,
   "metadata": {
    "collapsed": false,
    "deletable": true,
    "editable": true
   },
   "outputs": [],
   "source": [
    "df = pd.DataFrame(columns=curves.keys())"
   ]
  },
  {
   "cell_type": "code",
   "execution_count": 13,
   "metadata": {
    "collapsed": true
   },
   "outputs": [],
   "source": [
    "df = df.append(curves, ignore_index=True)"
   ]
  },
  {
   "cell_type": "code",
   "execution_count": 14,
   "metadata": {
    "collapsed": false
   },
   "outputs": [
    {
     "data": {
      "text/html": [
       "<div>\n",
       "<table border=\"1\" class=\"dataframe\">\n",
       "  <thead>\n",
       "    <tr style=\"text-align: right;\">\n",
       "      <th></th>\n",
       "      <th>train.fscore</th>\n",
       "      <th>valid.fscore</th>\n",
       "      <th>valid.loss</th>\n",
       "      <th>train.prec</th>\n",
       "      <th>valid.support</th>\n",
       "      <th>valid.recall</th>\n",
       "      <th>chan</th>\n",
       "      <th>model.patch_size</th>\n",
       "      <th>train.acc</th>\n",
       "      <th>train.recall</th>\n",
       "      <th>model.ident</th>\n",
       "      <th>valid.mse</th>\n",
       "      <th>valid.prec</th>\n",
       "      <th>tag</th>\n",
       "      <th>train.support</th>\n",
       "      <th>valid.acc</th>\n",
       "      <th>samples</th>\n",
       "      <th>train.mse</th>\n",
       "      <th>train.loss</th>\n",
       "    </tr>\n",
       "  </thead>\n",
       "  <tbody>\n",
       "    <tr>\n",
       "      <th>0</th>\n",
       "      <td>0.23987</td>\n",
       "      <td>0.54837</td>\n",
       "      <td>0.458</td>\n",
       "      <td>0.85</td>\n",
       "      <td>0.346</td>\n",
       "      <td>0.545</td>\n",
       "      <td>5.0</td>\n",
       "      <td>423543.0</td>\n",
       "      <td>0.25</td>\n",
       "      <td>0.218</td>\n",
       "      <td>xyz</td>\n",
       "      <td>0.4598</td>\n",
       "      <td>0.234</td>\n",
       "      <td>abc</td>\n",
       "      <td>0.348</td>\n",
       "      <td>0.35</td>\n",
       "      <td>345.0</td>\n",
       "      <td>0.45</td>\n",
       "      <td>0.45</td>\n",
       "    </tr>\n",
       "  </tbody>\n",
       "</table>\n",
       "</div>"
      ],
      "text/plain": [
       "   train.fscore  valid.fscore  valid.loss  train.prec  valid.support  \\\n",
       "0       0.23987       0.54837       0.458        0.85          0.346   \n",
       "\n",
       "   valid.recall  chan  model.patch_size  train.acc  train.recall model.ident  \\\n",
       "0         0.545   5.0          423543.0       0.25         0.218         xyz   \n",
       "\n",
       "   valid.mse  valid.prec  tag  train.support  valid.acc  samples  train.mse  \\\n",
       "0     0.4598       0.234  abc          0.348       0.35    345.0       0.45   \n",
       "\n",
       "   train.loss  \n",
       "0        0.45  "
      ]
     },
     "execution_count": 14,
     "metadata": {},
     "output_type": "execute_result"
    }
   ],
   "source": [
    "df"
   ]
  },
  {
   "cell_type": "code",
   "execution_count": null,
   "metadata": {
    "collapsed": true
   },
   "outputs": [],
   "source": []
  }
 ],
 "metadata": {
  "kernelspec": {
   "display_name": "Python 2",
   "language": "python",
   "name": "python2"
  },
  "language_info": {
   "codemirror_mode": {
    "name": "ipython",
    "version": 2
   },
   "file_extension": ".py",
   "mimetype": "text/x-python",
   "name": "python",
   "nbconvert_exporter": "python",
   "pygments_lexer": "ipython2",
   "version": "2.7.12"
  }
 },
 "nbformat": 4,
 "nbformat_minor": 2
}
