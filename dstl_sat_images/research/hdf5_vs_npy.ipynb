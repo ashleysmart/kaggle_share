{
 "cells": [
  {
   "cell_type": "code",
   "execution_count": 1,
   "metadata": {},
   "outputs": [],
   "source": [
    "import numpy as np\n",
    "import h5py"
   ]
  },
  {
   "cell_type": "code",
   "execution_count": 9,
   "metadata": {},
   "outputs": [],
   "source": [
    "a = np.random.random(size=(3000,3000,10)) > 0.5 "
   ]
  },
  {
   "cell_type": "code",
   "execution_count": 10,
   "metadata": {},
   "outputs": [
    {
     "name": "stdout",
     "output_type": "stream",
     "text": [
      "(3000, 3000, 10) bool\n"
     ]
    }
   ],
   "source": [
    "print a.shape, a.dtype"
   ]
  },
  {
   "cell_type": "code",
   "execution_count": 15,
   "metadata": {},
   "outputs": [
    {
     "name": "stdout",
     "output_type": "stream",
     "text": [
      "1 loop, best of 3: 996 ms per loop\n"
     ]
    }
   ],
   "source": [
    "def h5save(a):\n",
    "    h5f = h5py.File('data.h5', 'w')\n",
    "    h5f.create_dataset('dataset_1', data=a)\n",
    "    h5f.close()\n",
    "    \n",
    "%timeit  h5save(a)"
   ]
  },
  {
   "cell_type": "code",
   "execution_count": 16,
   "metadata": {},
   "outputs": [
    {
     "name": "stdout",
     "output_type": "stream",
     "text": [
      "1 loop, best of 3: 591 ms per loop\n"
     ]
    }
   ],
   "source": [
    "def h5load():\n",
    "    h5f = h5py.File('data.h5','r')\n",
    "    b = h5f['dataset_1'][:] * 1.0\n",
    "    h5f.close()\n",
    "\n",
    "%timeit h5load()"
   ]
  },
  {
   "cell_type": "code",
   "execution_count": 17,
   "metadata": {},
   "outputs": [
    {
     "name": "stdout",
     "output_type": "stream",
     "text": [
      "10 loops, best of 3: 1.11 s per loop\n"
     ]
    }
   ],
   "source": [
    "%timeit np.save(\"data.npy\", a)"
   ]
  },
  {
   "cell_type": "code",
   "execution_count": 18,
   "metadata": {},
   "outputs": [
    {
     "name": "stdout",
     "output_type": "stream",
     "text": [
      "1 loop, best of 3: 600 ms per loop\n"
     ]
    }
   ],
   "source": [
    "%timeit np.load(\"data.npy\") * 1.0"
   ]
  },
  {
   "cell_type": "code",
   "execution_count": 22,
   "metadata": {},
   "outputs": [
    {
     "name": "stdout",
     "output_type": "stream",
     "text": [
      "1 loop, best of 3: 10.9 s per loop\n"
     ]
    }
   ],
   "source": [
    "%timeit np.savez_compressed(\"data.npz\", a)"
   ]
  },
  {
   "cell_type": "code",
   "execution_count": 25,
   "metadata": {},
   "outputs": [
    {
     "name": "stdout",
     "output_type": "stream",
     "text": [
      "The slowest run took 21.91 times longer than the fastest. This could mean that an intermediate result is being cached.\n",
      "10000 loops, best of 3: 48.7 µs per loop\n"
     ]
    }
   ],
   "source": [
    "%timeit b = np.load(\"data.npz\")"
   ]
  },
  {
   "cell_type": "code",
   "execution_count": 8,
   "metadata": {},
   "outputs": [],
   "source": [
    "# for (3000, 3000, 10) float64\n",
    "# speed/size of npy vs hdf5 all the same???\n",
    "# -rw-rw-r--  1 oldfart oldfart 720,002,144 12月  9 14:25 data.h5\n",
    "# -rw-rw-r--  1 oldfart oldfart 720,000,096 12月  9 14:26 data.npy"
   ]
  },
  {
   "cell_type": "code",
   "execution_count": null,
   "metadata": {},
   "outputs": [],
   "source": [
    "# for (3000, 3000, 10) bool\n",
    "# speed/size of npy vs hdf5 all the same??? \n",
    "# -rw-rw-r--  1 oldfart oldfart 90,002,144 12月  9 14:29 data.h5\n",
    "# -rw-rw-r--  1 oldfart oldfart 90,000,096 12月  9 14:29 data.npy\n",
    "# -rw-rw-r--  1 oldfart oldfart 14312186 12月  9 14:41 data.npz\n",
    "\n",
    "# npz about 10x slower, 8-9x smaller"
   ]
  }
 ],
 "metadata": {
  "kernelspec": {
   "display_name": "Python 2",
   "language": "python",
   "name": "python2"
  },
  "language_info": {
   "codemirror_mode": {
    "name": "ipython",
    "version": 2
   },
   "file_extension": ".py",
   "mimetype": "text/x-python",
   "name": "python",
   "nbconvert_exporter": "python",
   "pygments_lexer": "ipython2",
   "version": "2.7.13"
  }
 },
 "nbformat": 4,
 "nbformat_minor": 2
}
