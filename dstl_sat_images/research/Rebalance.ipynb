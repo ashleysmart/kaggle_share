{
 "cells": [
  {
   "cell_type": "code",
   "execution_count": 1,
   "metadata": {
    "collapsed": true
   },
   "outputs": [],
   "source": [
    "import numpy as np"
   ]
  },
  {
   "cell_type": "code",
   "execution_count": 20,
   "metadata": {
    "collapsed": true
   },
   "outputs": [],
   "source": [
    "a = np.zeros((10,5,5))\n",
    "for i in range(a.shape[0]):\n",
    "    a[i] = i"
   ]
  },
  {
   "cell_type": "code",
   "execution_count": 54,
   "metadata": {
    "collapsed": true
   },
   "outputs": [],
   "source": [
    "b = np.random.random(10) > 0.9"
   ]
  },
  {
   "cell_type": "code",
   "execution_count": 55,
   "metadata": {
    "collapsed": false
   },
   "outputs": [
    {
     "data": {
      "text/plain": [
       "array([False, False, False,  True, False, False, False, False,  True, False], dtype=bool)"
      ]
     },
     "execution_count": 55,
     "metadata": {},
     "output_type": "execute_result"
    }
   ],
   "source": [
    "b"
   ]
  },
  {
   "cell_type": "code",
   "execution_count": 73,
   "metadata": {
    "collapsed": false
   },
   "outputs": [],
   "source": [
    "def rebalance(data,classes,samples,ratio):\n",
    "    # index the classes\n",
    "    true_idx  = classes == 1.0\n",
    "    false_idx = true_idx == False\n",
    "    true_idx  = np.where(true_idx)[0]\n",
    "    false_idx = np.where(false_idx)[0]\n",
    "\n",
    "    np.random.shuffle(true_idx)\n",
    "    np.random.shuffle(false_idx)\n",
    "\n",
    "    # sample sizes\n",
    "    true_target  = int(ratio*samples)\n",
    "    false_target = samples - true_target\n",
    "    \n",
    "    # select true set\n",
    "    if true_idx.shape[0] < true_target:\n",
    "        # we are short in true classes\n",
    "        repeats  = true_target / true_idx.shape[0]\n",
    "        leftover = true_target % true_idx.shape[0]\n",
    "\n",
    "        true_idx = np.concatenate((np.repeat(true_idx, repeats), true_idx[:leftover]), axis=0)\n",
    "    else:\n",
    "        true_idx = true_idx[:true_target]\n",
    "\n",
    "    # select false set\n",
    "    if false_idx.shape[0] < false_target:\n",
    "        # we are short in true classes\n",
    "        repeats  = false_target / false_idx.shape[0]\n",
    "        leftover = false_target % false_idx.shape[0]\n",
    "\n",
    "        false_idx = np.concatenate((np.repeat(false_idx, repeats), false_idx[:leftover]), axis=0)\n",
    "    else:\n",
    "        false_idx = false_idx[:false_target]\n",
    "                                  \n",
    "    idx_all = np.concatenate((false_idx, true_idx), axis=0)\n",
    "    np.random.shuffle(idx_all)\n",
    "    \n",
    "    #return true_idx, false_idx, idx_all\n",
    "    return data[idx_all], classes[idx_all]"
   ]
  },
  {
   "cell_type": "code",
   "execution_count": 75,
   "metadata": {
    "collapsed": false
   },
   "outputs": [
    {
     "data": {
      "text/plain": [
       "(array([[[ 3.,  3.,  3.,  3.,  3.],\n",
       "         [ 3.,  3.,  3.,  3.,  3.],\n",
       "         [ 3.,  3.,  3.,  3.,  3.],\n",
       "         [ 3.,  3.,  3.,  3.,  3.],\n",
       "         [ 3.,  3.,  3.,  3.,  3.]],\n",
       " \n",
       "        [[ 3.,  3.,  3.,  3.,  3.],\n",
       "         [ 3.,  3.,  3.,  3.,  3.],\n",
       "         [ 3.,  3.,  3.,  3.,  3.],\n",
       "         [ 3.,  3.,  3.,  3.,  3.],\n",
       "         [ 3.,  3.,  3.,  3.,  3.]],\n",
       " \n",
       "        [[ 8.,  8.,  8.,  8.,  8.],\n",
       "         [ 8.,  8.,  8.,  8.,  8.],\n",
       "         [ 8.,  8.,  8.,  8.,  8.],\n",
       "         [ 8.,  8.,  8.,  8.,  8.],\n",
       "         [ 8.,  8.,  8.,  8.,  8.]],\n",
       " \n",
       "        [[ 7.,  7.,  7.,  7.,  7.],\n",
       "         [ 7.,  7.,  7.,  7.,  7.],\n",
       "         [ 7.,  7.,  7.,  7.,  7.],\n",
       "         [ 7.,  7.,  7.,  7.,  7.],\n",
       "         [ 7.,  7.,  7.,  7.,  7.]],\n",
       " \n",
       "        [[ 9.,  9.,  9.,  9.,  9.],\n",
       "         [ 9.,  9.,  9.,  9.,  9.],\n",
       "         [ 9.,  9.,  9.,  9.,  9.],\n",
       "         [ 9.,  9.,  9.,  9.,  9.],\n",
       "         [ 9.,  9.,  9.,  9.,  9.]],\n",
       " \n",
       "        [[ 1.,  1.,  1.,  1.,  1.],\n",
       "         [ 1.,  1.,  1.,  1.,  1.],\n",
       "         [ 1.,  1.,  1.,  1.,  1.],\n",
       "         [ 1.,  1.,  1.,  1.,  1.],\n",
       "         [ 1.,  1.,  1.,  1.,  1.]],\n",
       " \n",
       "        [[ 3.,  3.,  3.,  3.,  3.],\n",
       "         [ 3.,  3.,  3.,  3.,  3.],\n",
       "         [ 3.,  3.,  3.,  3.,  3.],\n",
       "         [ 3.,  3.,  3.,  3.,  3.],\n",
       "         [ 3.,  3.,  3.,  3.,  3.]],\n",
       " \n",
       "        [[ 8.,  8.,  8.,  8.,  8.],\n",
       "         [ 8.,  8.,  8.,  8.,  8.],\n",
       "         [ 8.,  8.,  8.,  8.,  8.],\n",
       "         [ 8.,  8.,  8.,  8.,  8.],\n",
       "         [ 8.,  8.,  8.,  8.,  8.]],\n",
       " \n",
       "        [[ 4.,  4.,  4.,  4.,  4.],\n",
       "         [ 4.,  4.,  4.,  4.,  4.],\n",
       "         [ 4.,  4.,  4.,  4.,  4.],\n",
       "         [ 4.,  4.,  4.,  4.,  4.],\n",
       "         [ 4.,  4.,  4.,  4.,  4.]]]),\n",
       " array([ True,  True,  True, False, False, False,  True,  True, False], dtype=bool))"
      ]
     },
     "execution_count": 75,
     "metadata": {},
     "output_type": "execute_result"
    }
   ],
   "source": [
    "#c,d = rebalance(a,b,0.5)\n",
    "rebalance(a,b,9,0.6)"
   ]
  },
  {
   "cell_type": "code",
   "execution_count": null,
   "metadata": {
    "collapsed": true
   },
   "outputs": [],
   "source": []
  }
 ],
 "metadata": {
  "kernelspec": {
   "display_name": "Python 2",
   "language": "python",
   "name": "python2"
  },
  "language_info": {
   "codemirror_mode": {
    "name": "ipython",
    "version": 2
   },
   "file_extension": ".py",
   "mimetype": "text/x-python",
   "name": "python",
   "nbconvert_exporter": "python",
   "pygments_lexer": "ipython2",
   "version": "2.7.12"
  }
 },
 "nbformat": 4,
 "nbformat_minor": 2
}
