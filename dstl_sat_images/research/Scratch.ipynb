{
 "cells": [
  {
   "cell_type": "code",
   "execution_count": 13,
   "metadata": {},
   "outputs": [],
   "source": [
    "import numpy as np\n",
    "import pandas as pd"
   ]
  },
  {
   "cell_type": "code",
   "execution_count": 1,
   "metadata": {},
   "outputs": [],
   "source": [
    "curves = {\n",
    "        \"samples\": 345,\n",
    "        \"chan\": 5,\n",
    "        \"tag\": \"abc\",\n",
    "        \"model\": {\n",
    "            \"patch_size\": 423543,\n",
    "            \"ident\": \"xyz\",\n",
    "        },\n",
    "        \"train\": {\n",
    "            \"loss\":    0.45,\n",
    "            \"mse\":     0.45,\n",
    "            \"acc\":     0.25,\n",
    "            \"prec\":    0.85,\n",
    "            \"recall\":  0.218,\n",
    "            \"fscore\":  0.23987,\n",
    "            \"support\": 0.348\n",
    "            },\n",
    "        \"valid\": {\n",
    "            \"loss\": 0.458,\n",
    "            \"mse\": 0.4598,\n",
    "            \"acc\": 0.35,\n",
    "            \"prec\": 0.234,\n",
    "            \"recall\": 0.545,\n",
    "            \"fscore\": 0.54837,\n",
    "            \"support\": 0.346\n",
    "        }     \n",
    "    }"
   ]
  },
  {
   "cell_type": "code",
   "execution_count": 4,
   "metadata": {},
   "outputs": [],
   "source": [
    "def flatten(d):\n",
    "    def items():\n",
    "        for key, value in d.items():\n",
    "            if isinstance(value, dict):\n",
    "                for subkey, subvalue in flatten(value).items():\n",
    "                    yield key + \".\" + subkey, subvalue\n",
    "            else:\n",
    "                yield key, value\n",
    "\n",
    "    return dict(items())"
   ]
  },
  {
   "cell_type": "code",
   "execution_count": 5,
   "metadata": {},
   "outputs": [],
   "source": [
    "curves = flatten(curves)"
   ]
  },
  {
   "cell_type": "code",
   "execution_count": 8,
   "metadata": {},
   "outputs": [],
   "source": [
    "df = pd.DataFrame(columns=curves.keys())"
   ]
  },
  {
   "cell_type": "code",
   "execution_count": 9,
   "metadata": {},
   "outputs": [],
   "source": [
    "df = df.append(curves, ignore_index=True)"
   ]
  },
  {
   "cell_type": "code",
   "execution_count": 10,
   "metadata": {},
   "outputs": [
    {
     "data": {
      "text/html": [
       "<div>\n",
       "<style scoped>\n",
       "    .dataframe tbody tr th:only-of-type {\n",
       "        vertical-align: middle;\n",
       "    }\n",
       "\n",
       "    .dataframe tbody tr th {\n",
       "        vertical-align: top;\n",
       "    }\n",
       "\n",
       "    .dataframe thead th {\n",
       "        text-align: right;\n",
       "    }\n",
       "</style>\n",
       "<table border=\"1\" class=\"dataframe\">\n",
       "  <thead>\n",
       "    <tr style=\"text-align: right;\">\n",
       "      <th></th>\n",
       "      <th>train.fscore</th>\n",
       "      <th>valid.fscore</th>\n",
       "      <th>valid.loss</th>\n",
       "      <th>train.prec</th>\n",
       "      <th>valid.support</th>\n",
       "      <th>valid.recall</th>\n",
       "      <th>chan</th>\n",
       "      <th>model.patch_size</th>\n",
       "      <th>train.acc</th>\n",
       "      <th>train.recall</th>\n",
       "      <th>model.ident</th>\n",
       "      <th>valid.mse</th>\n",
       "      <th>valid.prec</th>\n",
       "      <th>tag</th>\n",
       "      <th>train.support</th>\n",
       "      <th>valid.acc</th>\n",
       "      <th>samples</th>\n",
       "      <th>train.mse</th>\n",
       "      <th>train.loss</th>\n",
       "    </tr>\n",
       "  </thead>\n",
       "  <tbody>\n",
       "    <tr>\n",
       "      <th>0</th>\n",
       "      <td>0.23987</td>\n",
       "      <td>0.54837</td>\n",
       "      <td>0.458</td>\n",
       "      <td>0.85</td>\n",
       "      <td>0.346</td>\n",
       "      <td>0.545</td>\n",
       "      <td>5</td>\n",
       "      <td>423543</td>\n",
       "      <td>0.25</td>\n",
       "      <td>0.218</td>\n",
       "      <td>xyz</td>\n",
       "      <td>0.4598</td>\n",
       "      <td>0.234</td>\n",
       "      <td>abc</td>\n",
       "      <td>0.348</td>\n",
       "      <td>0.35</td>\n",
       "      <td>345</td>\n",
       "      <td>0.45</td>\n",
       "      <td>0.45</td>\n",
       "    </tr>\n",
       "  </tbody>\n",
       "</table>\n",
       "</div>"
      ],
      "text/plain": [
       "   train.fscore  valid.fscore  valid.loss  train.prec  valid.support  \\\n",
       "0       0.23987       0.54837       0.458        0.85          0.346   \n",
       "\n",
       "   valid.recall chan model.patch_size  train.acc  train.recall model.ident  \\\n",
       "0         0.545    5           423543       0.25         0.218         xyz   \n",
       "\n",
       "   valid.mse  valid.prec  tag  train.support  valid.acc samples  train.mse  \\\n",
       "0     0.4598       0.234  abc          0.348       0.35     345       0.45   \n",
       "\n",
       "   train.loss  \n",
       "0        0.45  "
      ]
     },
     "execution_count": 10,
     "metadata": {},
     "output_type": "execute_result"
    }
   ],
   "source": [
    "df"
   ]
  },
  {
   "cell_type": "code",
   "execution_count": 11,
   "metadata": {},
   "outputs": [],
   "source": [
    "######################## ravel data #################"
   ]
  },
  {
   "cell_type": "code",
   "execution_count": 19,
   "metadata": {},
   "outputs": [],
   "source": [
    "a = np.random.random((10,10,3))"
   ]
  },
  {
   "cell_type": "code",
   "execution_count": 22,
   "metadata": {},
   "outputs": [],
   "source": [
    "def rav(data):\n",
    "    raveled = data.reshape((np.prod(data.shape[0:2]), data.shape[2]))\n",
    "    return (np.sum(raveled, axis=0) > 0.0) * 1.0\n"
   ]
  },
  {
   "cell_type": "code",
   "execution_count": 23,
   "metadata": {},
   "outputs": [
    {
     "data": {
      "text/plain": [
       "(10, 10, 3)"
      ]
     },
     "execution_count": 23,
     "metadata": {},
     "output_type": "execute_result"
    }
   ],
   "source": [
    "a.shape"
   ]
  },
  {
   "cell_type": "code",
   "execution_count": 25,
   "metadata": {},
   "outputs": [
    {
     "data": {
      "text/plain": [
       "(3,)"
      ]
     },
     "execution_count": 25,
     "metadata": {},
     "output_type": "execute_result"
    }
   ],
   "source": [
    "rav(a).shape"
   ]
  },
  {
   "cell_type": "code",
   "execution_count": null,
   "metadata": {},
   "outputs": [],
   "source": []
  }
 ],
 "metadata": {
  "kernelspec": {
   "display_name": "Python 2",
   "language": "python",
   "name": "python2"
  },
  "language_info": {
   "codemirror_mode": {
    "name": "ipython",
    "version": 2
   },
   "file_extension": ".py",
   "mimetype": "text/x-python",
   "name": "python",
   "nbconvert_exporter": "python",
   "pygments_lexer": "ipython2",
   "version": "2.7.13"
  }
 },
 "nbformat": 4,
 "nbformat_minor": 2
}
